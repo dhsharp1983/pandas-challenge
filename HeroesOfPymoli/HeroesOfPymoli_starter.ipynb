{
 "cells": [
  {
   "cell_type": "markdown",
   "metadata": {},
   "source": [
    "### Note\n",
    "* Instructions have been included for each segment. You do not have to follow them exactly, but they are included to help you think through the steps."
   ]
  },
  {
   "cell_type": "code",
   "execution_count": 61,
   "metadata": {},
   "outputs": [
    {
     "data": {
      "text/html": [
       "<div>\n",
       "<style scoped>\n",
       "    .dataframe tbody tr th:only-of-type {\n",
       "        vertical-align: middle;\n",
       "    }\n",
       "\n",
       "    .dataframe tbody tr th {\n",
       "        vertical-align: top;\n",
       "    }\n",
       "\n",
       "    .dataframe thead th {\n",
       "        text-align: right;\n",
       "    }\n",
       "</style>\n",
       "<table border=\"1\" class=\"dataframe\">\n",
       "  <thead>\n",
       "    <tr style=\"text-align: right;\">\n",
       "      <th></th>\n",
       "      <th>Purchase ID</th>\n",
       "      <th>SN</th>\n",
       "      <th>Age</th>\n",
       "      <th>Gender</th>\n",
       "      <th>Item ID</th>\n",
       "      <th>Item Name</th>\n",
       "      <th>Price</th>\n",
       "    </tr>\n",
       "  </thead>\n",
       "  <tbody>\n",
       "    <tr>\n",
       "      <th>0</th>\n",
       "      <td>0</td>\n",
       "      <td>Lisim78</td>\n",
       "      <td>20</td>\n",
       "      <td>Male</td>\n",
       "      <td>108</td>\n",
       "      <td>Extraction, Quickblade Of Trembling Hands</td>\n",
       "      <td>3.53</td>\n",
       "    </tr>\n",
       "    <tr>\n",
       "      <th>1</th>\n",
       "      <td>1</td>\n",
       "      <td>Lisovynya38</td>\n",
       "      <td>40</td>\n",
       "      <td>Male</td>\n",
       "      <td>143</td>\n",
       "      <td>Frenzied Scimitar</td>\n",
       "      <td>1.56</td>\n",
       "    </tr>\n",
       "    <tr>\n",
       "      <th>2</th>\n",
       "      <td>2</td>\n",
       "      <td>Ithergue48</td>\n",
       "      <td>24</td>\n",
       "      <td>Male</td>\n",
       "      <td>92</td>\n",
       "      <td>Final Critic</td>\n",
       "      <td>4.88</td>\n",
       "    </tr>\n",
       "    <tr>\n",
       "      <th>3</th>\n",
       "      <td>3</td>\n",
       "      <td>Chamassasya86</td>\n",
       "      <td>24</td>\n",
       "      <td>Male</td>\n",
       "      <td>100</td>\n",
       "      <td>Blindscythe</td>\n",
       "      <td>3.27</td>\n",
       "    </tr>\n",
       "    <tr>\n",
       "      <th>4</th>\n",
       "      <td>4</td>\n",
       "      <td>Iskosia90</td>\n",
       "      <td>23</td>\n",
       "      <td>Male</td>\n",
       "      <td>131</td>\n",
       "      <td>Fury</td>\n",
       "      <td>1.44</td>\n",
       "    </tr>\n",
       "    <tr>\n",
       "      <th>5</th>\n",
       "      <td>5</td>\n",
       "      <td>Yalae81</td>\n",
       "      <td>22</td>\n",
       "      <td>Male</td>\n",
       "      <td>81</td>\n",
       "      <td>Dreamkiss</td>\n",
       "      <td>3.61</td>\n",
       "    </tr>\n",
       "    <tr>\n",
       "      <th>6</th>\n",
       "      <td>6</td>\n",
       "      <td>Itheria73</td>\n",
       "      <td>36</td>\n",
       "      <td>Male</td>\n",
       "      <td>169</td>\n",
       "      <td>Interrogator, Blood Blade of the Queen</td>\n",
       "      <td>2.18</td>\n",
       "    </tr>\n",
       "    <tr>\n",
       "      <th>7</th>\n",
       "      <td>7</td>\n",
       "      <td>Iskjaskst81</td>\n",
       "      <td>20</td>\n",
       "      <td>Male</td>\n",
       "      <td>162</td>\n",
       "      <td>Abyssal Shard</td>\n",
       "      <td>2.67</td>\n",
       "    </tr>\n",
       "    <tr>\n",
       "      <th>8</th>\n",
       "      <td>8</td>\n",
       "      <td>Undjask33</td>\n",
       "      <td>22</td>\n",
       "      <td>Male</td>\n",
       "      <td>21</td>\n",
       "      <td>Souleater</td>\n",
       "      <td>1.10</td>\n",
       "    </tr>\n",
       "    <tr>\n",
       "      <th>9</th>\n",
       "      <td>9</td>\n",
       "      <td>Chanosian48</td>\n",
       "      <td>35</td>\n",
       "      <td>Other / Non-Disclosed</td>\n",
       "      <td>136</td>\n",
       "      <td>Ghastly Adamantite Protector</td>\n",
       "      <td>3.58</td>\n",
       "    </tr>\n",
       "  </tbody>\n",
       "</table>\n",
       "</div>"
      ],
      "text/plain": [
       "   Purchase ID             SN  Age                 Gender  Item ID  \\\n",
       "0            0        Lisim78   20                   Male      108   \n",
       "1            1    Lisovynya38   40                   Male      143   \n",
       "2            2     Ithergue48   24                   Male       92   \n",
       "3            3  Chamassasya86   24                   Male      100   \n",
       "4            4      Iskosia90   23                   Male      131   \n",
       "5            5        Yalae81   22                   Male       81   \n",
       "6            6      Itheria73   36                   Male      169   \n",
       "7            7    Iskjaskst81   20                   Male      162   \n",
       "8            8      Undjask33   22                   Male       21   \n",
       "9            9    Chanosian48   35  Other / Non-Disclosed      136   \n",
       "\n",
       "                                   Item Name  Price  \n",
       "0  Extraction, Quickblade Of Trembling Hands   3.53  \n",
       "1                          Frenzied Scimitar   1.56  \n",
       "2                               Final Critic   4.88  \n",
       "3                                Blindscythe   3.27  \n",
       "4                                       Fury   1.44  \n",
       "5                                  Dreamkiss   3.61  \n",
       "6     Interrogator, Blood Blade of the Queen   2.18  \n",
       "7                              Abyssal Shard   2.67  \n",
       "8                                  Souleater   1.10  \n",
       "9               Ghastly Adamantite Protector   3.58  "
      ]
     },
     "execution_count": 61,
     "metadata": {},
     "output_type": "execute_result"
    }
   ],
   "source": [
    "# Dependencies and Setup\n",
    "import pandas as pd\n",
    "\n",
    "# File to Load (Remember to Change These)\n",
    "file_to_load = \"Resources/purchase_data.csv\"\n",
    "\n",
    "# Read Purchasing File and store into Pandas data frame\n",
    "purchase_data_df = pd.read_csv(file_to_load)\n",
    "purchase_data_df.head(10)"
   ]
  },
  {
   "cell_type": "markdown",
   "metadata": {},
   "source": [
    "## Player Count"
   ]
  },
  {
   "cell_type": "markdown",
   "metadata": {},
   "source": [
    "* Display the total number of players\n"
   ]
  },
  {
   "cell_type": "code",
   "execution_count": 62,
   "metadata": {},
   "outputs": [
    {
     "name": "stdout",
     "output_type": "stream",
     "text": [
      "Total Player Count is: 576\n"
     ]
    }
   ],
   "source": [
    "# Player Count - display total number of players\n",
    "# Assuming this means the actual number of players, not just the length of the dataset \n",
    "\n",
    "TotalPlayerCount = len(purchase_data_df['SN'].unique())\n",
    "print(f\"Total Player Count is: {TotalPlayerCount}\")"
   ]
  },
  {
   "cell_type": "markdown",
   "metadata": {},
   "source": [
    "## Purchasing Analysis (Total)"
   ]
  },
  {
   "cell_type": "markdown",
   "metadata": {},
   "source": [
    "* Run basic calculations to obtain number of unique items, average price, etc.\n",
    "\n",
    "\n",
    "* Create a summary data frame to hold the results\n",
    "\n",
    "\n",
    "* Optional: give the displayed data cleaner formatting\n",
    "\n",
    "\n",
    "* Display the summary data frame\n"
   ]
  },
  {
   "cell_type": "code",
   "execution_count": 63,
   "metadata": {
    "scrolled": true
   },
   "outputs": [
    {
     "data": {
      "text/html": [
       "<style  type=\"text/css\" >\n",
       "</style><table id=\"T_e2689cf4_7d7b_11eb_b12f_989e6329cf2f\" ><thead>    <tr>        <th class=\"blank level0\" ></th>        <th class=\"col_heading level0 col0\" >Unique Items</th>        <th class=\"col_heading level0 col1\" >Average Purchase Price</th>        <th class=\"col_heading level0 col2\" >Total Number of Purchases</th>        <th class=\"col_heading level0 col3\" >Total Revenue</th>    </tr></thead><tbody>\n",
       "                <tr>\n",
       "                        <th id=\"T_e2689cf4_7d7b_11eb_b12f_989e6329cf2flevel0_row0\" class=\"row_heading level0 row0\" >0</th>\n",
       "                        <td id=\"T_e2689cf4_7d7b_11eb_b12f_989e6329cf2frow0_col0\" class=\"data row0 col0\" >179</td>\n",
       "                        <td id=\"T_e2689cf4_7d7b_11eb_b12f_989e6329cf2frow0_col1\" class=\"data row0 col1\" >$3.05</td>\n",
       "                        <td id=\"T_e2689cf4_7d7b_11eb_b12f_989e6329cf2frow0_col2\" class=\"data row0 col2\" >780</td>\n",
       "                        <td id=\"T_e2689cf4_7d7b_11eb_b12f_989e6329cf2frow0_col3\" class=\"data row0 col3\" >$2,379.77</td>\n",
       "            </tr>\n",
       "    </tbody></table>"
      ],
      "text/plain": [
       "<pandas.io.formats.style.Styler at 0x1fcacfac550>"
      ]
     },
     "execution_count": 63,
     "metadata": {},
     "output_type": "execute_result"
    }
   ],
   "source": [
    "# Get number of unique items \n",
    "UniqueItems = purchase_data_df['Item Name'].nunique()\n",
    "\n",
    "# Get average purchase price\n",
    "AveragePurchasePrice = purchase_data_df['Price'].mean()\n",
    "\n",
    "# Total Number of Purchases\n",
    "NumberOfPurchases = purchase_data_df['Purchase ID'].count()\n",
    "\n",
    "# Get Total Revenue \n",
    "TotalRevenue= purchase_data_df['Price'].sum()\n",
    "\n",
    "# Generate DataFrame\n",
    "PurchaseAnalysis_df = pd.DataFrame({\n",
    "    'Unique Items':[UniqueItems],\n",
    "    'Average Purchase Price':[AveragePurchasePrice],\n",
    "    'Total Number of Purchases': [NumberOfPurchases],\n",
    "    'Total Revenue': [TotalRevenue]\n",
    "    })\n",
    "\n",
    "#Format DataFrame\n",
    "Formatted_df = pd.DataFrame(PurchaseAnalysis_df).style.format({\n",
    "    'Average Purchase Price': '${:,.2f}'.format,\n",
    "    'Total Revenue': '${:,.2f}'.format,\n",
    "})\n",
    "\n",
    "#Print DataFrame\n",
    "Formatted_df"
   ]
  },
  {
   "cell_type": "markdown",
   "metadata": {},
   "source": [
    "\n",
    "## Gender Demographics"
   ]
  },
  {
   "cell_type": "markdown",
   "metadata": {},
   "source": [
    "* Percentage and Count of Male Players\n",
    "\n",
    "\n",
    "* Percentage and Count of Female Players\n",
    "\n",
    "\n",
    "* Percentage and Count of Other / Non-Disclosed\n",
    "\n",
    "\n"
   ]
  },
  {
   "cell_type": "code",
   "execution_count": 64,
   "metadata": {},
   "outputs": [
    {
     "data": {
      "text/html": [
       "<style  type=\"text/css\" >\n",
       "</style><table id=\"T_e5e77ca2_7d7b_11eb_9025_989e6329cf2f\" ><thead>    <tr>        <th class=\"blank level0\" ></th>        <th class=\"col_heading level0 col0\" >SN</th>        <th class=\"col_heading level0 col1\" >Percentage</th>    </tr>    <tr>        <th class=\"index_name level0\" >Gender</th>        <th class=\"blank\" ></th>        <th class=\"blank\" ></th>    </tr></thead><tbody>\n",
       "                <tr>\n",
       "                        <th id=\"T_e5e77ca2_7d7b_11eb_9025_989e6329cf2flevel0_row0\" class=\"row_heading level0 row0\" >Female</th>\n",
       "                        <td id=\"T_e5e77ca2_7d7b_11eb_9025_989e6329cf2frow0_col0\" class=\"data row0 col0\" >81</td>\n",
       "                        <td id=\"T_e5e77ca2_7d7b_11eb_9025_989e6329cf2frow0_col1\" class=\"data row0 col1\" >14%</td>\n",
       "            </tr>\n",
       "            <tr>\n",
       "                        <th id=\"T_e5e77ca2_7d7b_11eb_9025_989e6329cf2flevel0_row1\" class=\"row_heading level0 row1\" >Male</th>\n",
       "                        <td id=\"T_e5e77ca2_7d7b_11eb_9025_989e6329cf2frow1_col0\" class=\"data row1 col0\" >484</td>\n",
       "                        <td id=\"T_e5e77ca2_7d7b_11eb_9025_989e6329cf2frow1_col1\" class=\"data row1 col1\" >84%</td>\n",
       "            </tr>\n",
       "            <tr>\n",
       "                        <th id=\"T_e5e77ca2_7d7b_11eb_9025_989e6329cf2flevel0_row2\" class=\"row_heading level0 row2\" >Other / Non-Disclosed</th>\n",
       "                        <td id=\"T_e5e77ca2_7d7b_11eb_9025_989e6329cf2frow2_col0\" class=\"data row2 col0\" >11</td>\n",
       "                        <td id=\"T_e5e77ca2_7d7b_11eb_9025_989e6329cf2frow2_col1\" class=\"data row2 col1\" >2%</td>\n",
       "            </tr>\n",
       "    </tbody></table>"
      ],
      "text/plain": [
       "<pandas.io.formats.style.Styler at 0x1fca9a7a910>"
      ]
     },
     "execution_count": 64,
     "metadata": {},
     "output_type": "execute_result"
    }
   ],
   "source": [
    "# Create new DF grouped by Gender and get number of unique values \n",
    "gender_df = purchase_data_df[['SN']].groupby(purchase_data_df['Gender']).nunique()\n",
    "\n",
    "# Create new column called Percentage and perform calculation \n",
    "gender_df['Percentage'] = gender_df['SN'] / TotalPlayerCount\n",
    "\n",
    "# Format DF \n",
    "formatted_gender_df = pd.DataFrame(gender_df).style.format({\n",
    "    'Percentage': \"{:.0%}\".format\n",
    "})\n",
    "\n",
    "# Print DF \n",
    "formatted_gender_df"
   ]
  },
  {
   "cell_type": "markdown",
   "metadata": {},
   "source": [
    "\n",
    "## Purchasing Analysis (Gender)"
   ]
  },
  {
   "cell_type": "markdown",
   "metadata": {},
   "source": [
    "* Run basic calculations to obtain purchase count, avg. purchase price, avg. purchase total per person etc. by gender\n",
    "\n",
    "\n",
    "\n",
    "\n",
    "* Create a summary data frame to hold the results\n",
    "\n",
    "\n",
    "* Optional: give the displayed data cleaner formatting\n",
    "\n",
    "\n",
    "* Display the summary data frame"
   ]
  },
  {
   "cell_type": "code",
   "execution_count": 65,
   "metadata": {},
   "outputs": [
    {
     "data": {
      "text/html": [
       "<style  type=\"text/css\" >\n",
       "</style><table id=\"T_e881ba83_7d7b_11eb_ab23_989e6329cf2f\" ><thead>    <tr>        <th class=\"blank level0\" ></th>        <th class=\"col_heading level0 col0\" >Total Purchase Count</th>        <th class=\"col_heading level0 col1\" >Average Purchase</th>        <th class=\"col_heading level0 col2\" >Total Purchase Amount</th>        <th class=\"col_heading level0 col3\" >Avg Purchase Total per Person</th>    </tr>    <tr>        <th class=\"index_name level0\" >Gender</th>        <th class=\"blank\" ></th>        <th class=\"blank\" ></th>        <th class=\"blank\" ></th>        <th class=\"blank\" ></th>    </tr></thead><tbody>\n",
       "                <tr>\n",
       "                        <th id=\"T_e881ba83_7d7b_11eb_ab23_989e6329cf2flevel0_row0\" class=\"row_heading level0 row0\" >Female</th>\n",
       "                        <td id=\"T_e881ba83_7d7b_11eb_ab23_989e6329cf2frow0_col0\" class=\"data row0 col0\" >113</td>\n",
       "                        <td id=\"T_e881ba83_7d7b_11eb_ab23_989e6329cf2frow0_col1\" class=\"data row0 col1\" >$3.20</td>\n",
       "                        <td id=\"T_e881ba83_7d7b_11eb_ab23_989e6329cf2frow0_col2\" class=\"data row0 col2\" >$361.94</td>\n",
       "                        <td id=\"T_e881ba83_7d7b_11eb_ab23_989e6329cf2frow0_col3\" class=\"data row0 col3\" >$4.47</td>\n",
       "            </tr>\n",
       "            <tr>\n",
       "                        <th id=\"T_e881ba83_7d7b_11eb_ab23_989e6329cf2flevel0_row1\" class=\"row_heading level0 row1\" >Male</th>\n",
       "                        <td id=\"T_e881ba83_7d7b_11eb_ab23_989e6329cf2frow1_col0\" class=\"data row1 col0\" >652</td>\n",
       "                        <td id=\"T_e881ba83_7d7b_11eb_ab23_989e6329cf2frow1_col1\" class=\"data row1 col1\" >$3.02</td>\n",
       "                        <td id=\"T_e881ba83_7d7b_11eb_ab23_989e6329cf2frow1_col2\" class=\"data row1 col2\" >$1,967.64</td>\n",
       "                        <td id=\"T_e881ba83_7d7b_11eb_ab23_989e6329cf2frow1_col3\" class=\"data row1 col3\" >$4.07</td>\n",
       "            </tr>\n",
       "            <tr>\n",
       "                        <th id=\"T_e881ba83_7d7b_11eb_ab23_989e6329cf2flevel0_row2\" class=\"row_heading level0 row2\" >Other / Non-Disclosed</th>\n",
       "                        <td id=\"T_e881ba83_7d7b_11eb_ab23_989e6329cf2frow2_col0\" class=\"data row2 col0\" >15</td>\n",
       "                        <td id=\"T_e881ba83_7d7b_11eb_ab23_989e6329cf2frow2_col1\" class=\"data row2 col1\" >$3.35</td>\n",
       "                        <td id=\"T_e881ba83_7d7b_11eb_ab23_989e6329cf2frow2_col2\" class=\"data row2 col2\" >$50.19</td>\n",
       "                        <td id=\"T_e881ba83_7d7b_11eb_ab23_989e6329cf2frow2_col3\" class=\"data row2 col3\" >$4.56</td>\n",
       "            </tr>\n",
       "    </tbody></table>"
      ],
      "text/plain": [
       "<pandas.io.formats.style.Styler at 0x1fcacf882b0>"
      ]
     },
     "execution_count": 65,
     "metadata": {},
     "output_type": "execute_result"
    }
   ],
   "source": [
    "# Create GroupBy table sorted by Gender \n",
    "gender_groupby_df = purchase_data_df.groupby(purchase_data_df['Gender'])\n",
    "\n",
    "# Create data series from GroupBy table\n",
    "series1 = gender_groupby_df['Purchase ID'].count()\n",
    "series2 = gender_groupby_df['Price'].mean()\n",
    "series3 = gender_groupby_df['Price'].sum()\n",
    "series4 = gender_groupby_df['Price'].mean()\n",
    "\n",
    "# Concatenate Data Series into new table \n",
    "gender_purchasing_analysis_df = pd.concat([series1, series2, series3], axis=1)\n",
    "\n",
    "# Rename Columns \n",
    "gender_purchasing_analysis_df.columns = ['Total Purchase Count','Average Purchase','Total Purchase Amount']\n",
    "\n",
    "# Calculate Average Purchase Total Per Person \n",
    "gender_purchasing_analysis_df['Avg Purchase Total per Person'] = gender_purchasing_analysis_df['Total Purchase Amount'] / gender_df['SN']\n",
    "\n",
    "# Format DataFrame \n",
    "gender_purchasing_analysis_formatted_df = pd.DataFrame(gender_purchasing_analysis_df).style.format({\n",
    "    'Average Purchase': '${:,.2f}'.format,\n",
    "    'Total Purchase Amount': '${:,.2f}'.format,\n",
    "    'Avg Purchase Total per Person': '${:,.2f}'.format,\n",
    "})\n",
    "\n",
    "# Display DataFrame \n",
    "gender_purchasing_analysis_formatted_df"
   ]
  },
  {
   "cell_type": "markdown",
   "metadata": {},
   "source": [
    "## Age Demographics"
   ]
  },
  {
   "cell_type": "markdown",
   "metadata": {},
   "source": [
    "* Establish bins for ages\n",
    "\n",
    "\n",
    "* Categorize the existing players using the age bins. Hint: use pd.cut()\n",
    "\n",
    "\n",
    "* Calculate the numbers and percentages by age group\n",
    "\n",
    "\n",
    "* Create a summary data frame to hold the results\n",
    "\n",
    "\n",
    "* Optional: round the percentage column to two decimal points\n",
    "\n",
    "\n",
    "* Display Age Demographics Table\n"
   ]
  },
  {
   "cell_type": "code",
   "execution_count": 60,
   "metadata": {},
   "outputs": [
    {
     "data": {
      "text/html": [
       "<style  type=\"text/css\" >\n",
       "</style><table id=\"T_9dd31167_7d7b_11eb_aba5_989e6329cf2f\" ><thead>    <tr>        <th class=\"blank level0\" ></th>        <th class=\"col_heading level0 col0\" >Purchase Count</th>        <th class=\"col_heading level0 col1\" >Average Purchase Price</th>        <th class=\"col_heading level0 col2\" >Total Purchase Value</th>        <th class=\"col_heading level0 col3\" >Average Purchase Total Per Person</th>    </tr>    <tr>        <th class=\"index_name level0\" >Age Bracket</th>        <th class=\"blank\" ></th>        <th class=\"blank\" ></th>        <th class=\"blank\" ></th>        <th class=\"blank\" ></th>    </tr></thead><tbody>\n",
       "                <tr>\n",
       "                        <th id=\"T_9dd31167_7d7b_11eb_aba5_989e6329cf2flevel0_row0\" class=\"row_heading level0 row0\" >7-11</th>\n",
       "                        <td id=\"T_9dd31167_7d7b_11eb_aba5_989e6329cf2frow0_col0\" class=\"data row0 col0\" >32</td>\n",
       "                        <td id=\"T_9dd31167_7d7b_11eb_aba5_989e6329cf2frow0_col1\" class=\"data row0 col1\" >$3.40</td>\n",
       "                        <td id=\"T_9dd31167_7d7b_11eb_aba5_989e6329cf2frow0_col2\" class=\"data row0 col2\" >$108.96</td>\n",
       "                        <td id=\"T_9dd31167_7d7b_11eb_aba5_989e6329cf2frow0_col3\" class=\"data row0 col3\" >$4.54</td>\n",
       "            </tr>\n",
       "            <tr>\n",
       "                        <th id=\"T_9dd31167_7d7b_11eb_aba5_989e6329cf2flevel0_row1\" class=\"row_heading level0 row1\" >11-15</th>\n",
       "                        <td id=\"T_9dd31167_7d7b_11eb_aba5_989e6329cf2frow1_col0\" class=\"data row1 col0\" >19</td>\n",
       "                        <td id=\"T_9dd31167_7d7b_11eb_aba5_989e6329cf2frow1_col1\" class=\"data row1 col1\" >$2.68</td>\n",
       "                        <td id=\"T_9dd31167_7d7b_11eb_aba5_989e6329cf2frow1_col2\" class=\"data row1 col2\" >$50.95</td>\n",
       "                        <td id=\"T_9dd31167_7d7b_11eb_aba5_989e6329cf2frow1_col3\" class=\"data row1 col3\" >$3.40</td>\n",
       "            </tr>\n",
       "            <tr>\n",
       "                        <th id=\"T_9dd31167_7d7b_11eb_aba5_989e6329cf2flevel0_row2\" class=\"row_heading level0 row2\" >15-19</th>\n",
       "                        <td id=\"T_9dd31167_7d7b_11eb_aba5_989e6329cf2frow2_col0\" class=\"data row2 col0\" >113</td>\n",
       "                        <td id=\"T_9dd31167_7d7b_11eb_aba5_989e6329cf2frow2_col1\" class=\"data row2 col1\" >$3.03</td>\n",
       "                        <td id=\"T_9dd31167_7d7b_11eb_aba5_989e6329cf2frow2_col2\" class=\"data row2 col2\" >$342.91</td>\n",
       "                        <td id=\"T_9dd31167_7d7b_11eb_aba5_989e6329cf2frow2_col3\" class=\"data row2 col3\" >$3.81</td>\n",
       "            </tr>\n",
       "            <tr>\n",
       "                        <th id=\"T_9dd31167_7d7b_11eb_aba5_989e6329cf2flevel0_row3\" class=\"row_heading level0 row3\" >19-23</th>\n",
       "                        <td id=\"T_9dd31167_7d7b_11eb_aba5_989e6329cf2frow3_col0\" class=\"data row3 col0\" >254</td>\n",
       "                        <td id=\"T_9dd31167_7d7b_11eb_aba5_989e6329cf2frow3_col1\" class=\"data row3 col1\" >$3.04</td>\n",
       "                        <td id=\"T_9dd31167_7d7b_11eb_aba5_989e6329cf2frow3_col2\" class=\"data row3 col2\" >$771.89</td>\n",
       "                        <td id=\"T_9dd31167_7d7b_11eb_aba5_989e6329cf2frow3_col3\" class=\"data row3 col3\" >$4.34</td>\n",
       "            </tr>\n",
       "            <tr>\n",
       "                        <th id=\"T_9dd31167_7d7b_11eb_aba5_989e6329cf2flevel0_row4\" class=\"row_heading level0 row4\" >23-27</th>\n",
       "                        <td id=\"T_9dd31167_7d7b_11eb_aba5_989e6329cf2frow4_col0\" class=\"data row4 col0\" >207</td>\n",
       "                        <td id=\"T_9dd31167_7d7b_11eb_aba5_989e6329cf2frow4_col1\" class=\"data row4 col1\" >$3.06</td>\n",
       "                        <td id=\"T_9dd31167_7d7b_11eb_aba5_989e6329cf2frow4_col2\" class=\"data row4 col2\" >$634.24</td>\n",
       "                        <td id=\"T_9dd31167_7d7b_11eb_aba5_989e6329cf2frow4_col3\" class=\"data row4 col3\" >$4.20</td>\n",
       "            </tr>\n",
       "            <tr>\n",
       "                        <th id=\"T_9dd31167_7d7b_11eb_aba5_989e6329cf2flevel0_row5\" class=\"row_heading level0 row5\" >27-31</th>\n",
       "                        <td id=\"T_9dd31167_7d7b_11eb_aba5_989e6329cf2frow5_col0\" class=\"data row5 col0\" >63</td>\n",
       "                        <td id=\"T_9dd31167_7d7b_11eb_aba5_989e6329cf2frow5_col1\" class=\"data row5 col1\" >$2.88</td>\n",
       "                        <td id=\"T_9dd31167_7d7b_11eb_aba5_989e6329cf2frow5_col2\" class=\"data row5 col2\" >$181.23</td>\n",
       "                        <td id=\"T_9dd31167_7d7b_11eb_aba5_989e6329cf2frow5_col3\" class=\"data row5 col3\" >$3.78</td>\n",
       "            </tr>\n",
       "            <tr>\n",
       "                        <th id=\"T_9dd31167_7d7b_11eb_aba5_989e6329cf2flevel0_row6\" class=\"row_heading level0 row6\" >31-35</th>\n",
       "                        <td id=\"T_9dd31167_7d7b_11eb_aba5_989e6329cf2frow6_col0\" class=\"data row6 col0\" >38</td>\n",
       "                        <td id=\"T_9dd31167_7d7b_11eb_aba5_989e6329cf2frow6_col1\" class=\"data row6 col1\" >$2.73</td>\n",
       "                        <td id=\"T_9dd31167_7d7b_11eb_aba5_989e6329cf2frow6_col2\" class=\"data row6 col2\" >$103.68</td>\n",
       "                        <td id=\"T_9dd31167_7d7b_11eb_aba5_989e6329cf2frow6_col3\" class=\"data row6 col3\" >$3.84</td>\n",
       "            </tr>\n",
       "            <tr>\n",
       "                        <th id=\"T_9dd31167_7d7b_11eb_aba5_989e6329cf2flevel0_row7\" class=\"row_heading level0 row7\" >35-39</th>\n",
       "                        <td id=\"T_9dd31167_7d7b_11eb_aba5_989e6329cf2frow7_col0\" class=\"data row7 col0\" >35</td>\n",
       "                        <td id=\"T_9dd31167_7d7b_11eb_aba5_989e6329cf2frow7_col1\" class=\"data row7 col1\" >$3.55</td>\n",
       "                        <td id=\"T_9dd31167_7d7b_11eb_aba5_989e6329cf2frow7_col2\" class=\"data row7 col2\" >$124.35</td>\n",
       "                        <td id=\"T_9dd31167_7d7b_11eb_aba5_989e6329cf2frow7_col3\" class=\"data row7 col3\" >$4.97</td>\n",
       "            </tr>\n",
       "            <tr>\n",
       "                        <th id=\"T_9dd31167_7d7b_11eb_aba5_989e6329cf2flevel0_row8\" class=\"row_heading level0 row8\" >39+</th>\n",
       "                        <td id=\"T_9dd31167_7d7b_11eb_aba5_989e6329cf2frow8_col0\" class=\"data row8 col0\" >19</td>\n",
       "                        <td id=\"T_9dd31167_7d7b_11eb_aba5_989e6329cf2frow8_col1\" class=\"data row8 col1\" >$3.24</td>\n",
       "                        <td id=\"T_9dd31167_7d7b_11eb_aba5_989e6329cf2frow8_col2\" class=\"data row8 col2\" >$61.56</td>\n",
       "                        <td id=\"T_9dd31167_7d7b_11eb_aba5_989e6329cf2frow8_col3\" class=\"data row8 col3\" >$3.42</td>\n",
       "            </tr>\n",
       "    </tbody></table>"
      ],
      "text/plain": [
       "<pandas.io.formats.style.Styler at 0x1fcacc812b0>"
      ]
     },
     "execution_count": 60,
     "metadata": {},
     "output_type": "execute_result"
    }
   ],
   "source": [
    "# describe() function run to determine min and max ages \n",
    "# group data into bins of 4 years \n",
    "bins = [6.9, 10.9, 14.9, 18.9, 22.9, 26.9, 30.9, 34.9, 38.9, 46]\n",
    "group_names = ['7-11','11-15','15-19','19-23','23-27','27-31','31-35','35-39','39+']\n",
    "purchase_data_df['Age Bracket'] = pd.cut(purchase_data_df['Age'], bins = bins, labels = group_names, include_lowest = True, right = True)\n",
    "\n",
    "# create groupby table\n",
    "age_df = purchase_data_df.groupby(['Age Bracket'])\n",
    "\n",
    "# perform calculations and create series \n",
    "AgePurchaseCount = age_df['SN'].count()\n",
    "AgeAvgPurchasePrice = age_df['Price'].mean()\n",
    "AgeTotalPurchaseValue = age_df['Price'].sum()\n",
    "\n",
    "# create new table based on series data \n",
    "age_demographic_df = pd.concat([AgePurchaseCount, AgeAvgPurchasePrice, AgeTotalPurchaseValue], axis=1)\n",
    "age_demographic_df.columns = ['Purchase Count','Average Purchase Price','Total Purchase Value']\n",
    "\n",
    "# Calculate Average Purchase Total Per Person \n",
    "AgeUniquePurchases = age_df['SN'].nunique()\n",
    "age_demographic_df['Average Purchase Total Per Person'] = age_demographic_df['Total Purchase Value'] / AgeUniquePurchases\n",
    "\n",
    "# Format Dataframe \n",
    "age_demographic_formatted_df = pd.DataFrame(age_demographic_df).style.format({\n",
    "    'Average Purchase Price': '${:,.2f}'.format,\n",
    "    'Total Purchase Value': '${:,.2f}'.format,\n",
    "    'Average Purchase Total Per Person': '${:,.2f}'.format,\n",
    "})\n",
    "age_demographic_formatted_df"
   ]
  },
  {
   "cell_type": "markdown",
   "metadata": {},
   "source": [
    "## Purchasing Analysis (Age)"
   ]
  },
  {
   "cell_type": "markdown",
   "metadata": {},
   "source": [
    "* Bin the purchase_data data frame by age\n",
    "\n",
    "\n",
    "* Run basic calculations to obtain purchase count, avg. purchase price, avg. purchase total per person etc. in the table below\n",
    "\n",
    "\n",
    "* Create a summary data frame to hold the results\n",
    "\n",
    "\n",
    "* Optional: give the displayed data cleaner formatting\n",
    "\n",
    "\n",
    "* Display the summary data frame"
   ]
  },
  {
   "cell_type": "code",
   "execution_count": 7,
   "metadata": {},
   "outputs": [],
   "source": [
    "# Is this cell a repeat of the one above it? \n",
    "# Assuming not required "
   ]
  },
  {
   "cell_type": "markdown",
   "metadata": {},
   "source": [
    "## Top Spenders"
   ]
  },
  {
   "cell_type": "markdown",
   "metadata": {},
   "source": [
    "* Run basic calculations to obtain the results in the table below\n",
    "\n",
    "\n",
    "* Create a summary data frame to hold the results\n",
    "\n",
    "\n",
    "* Sort the total purchase value column in descending order\n",
    "\n",
    "\n",
    "* Optional: give the displayed data cleaner formatting\n",
    "\n",
    "\n",
    "* Display a preview of the summary data frame\n",
    "\n"
   ]
  },
  {
   "cell_type": "code",
   "execution_count": 58,
   "metadata": {},
   "outputs": [
    {
     "data": {
      "text/html": [
       "<style  type=\"text/css\" >\n",
       "</style><table id=\"T_76c4e01b_7d7b_11eb_8d58_989e6329cf2f\" ><thead>    <tr>        <th class=\"blank level0\" ></th>        <th class=\"col_heading level0 col0\" >Total Purchase Value</th>        <th class=\"col_heading level0 col1\" >Number of Purchases</th>        <th class=\"col_heading level0 col2\" >Average Purchase Price</th>    </tr>    <tr>        <th class=\"index_name level0\" >SN</th>        <th class=\"blank\" ></th>        <th class=\"blank\" ></th>        <th class=\"blank\" ></th>    </tr></thead><tbody>\n",
       "                <tr>\n",
       "                        <th id=\"T_76c4e01b_7d7b_11eb_8d58_989e6329cf2flevel0_row0\" class=\"row_heading level0 row0\" >Lisosia93</th>\n",
       "                        <td id=\"T_76c4e01b_7d7b_11eb_8d58_989e6329cf2frow0_col0\" class=\"data row0 col0\" >$18.96</td>\n",
       "                        <td id=\"T_76c4e01b_7d7b_11eb_8d58_989e6329cf2frow0_col1\" class=\"data row0 col1\" >5</td>\n",
       "                        <td id=\"T_76c4e01b_7d7b_11eb_8d58_989e6329cf2frow0_col2\" class=\"data row0 col2\" >$3.79</td>\n",
       "            </tr>\n",
       "            <tr>\n",
       "                        <th id=\"T_76c4e01b_7d7b_11eb_8d58_989e6329cf2flevel0_row1\" class=\"row_heading level0 row1\" >Idastidru52</th>\n",
       "                        <td id=\"T_76c4e01b_7d7b_11eb_8d58_989e6329cf2frow1_col0\" class=\"data row1 col0\" >$15.45</td>\n",
       "                        <td id=\"T_76c4e01b_7d7b_11eb_8d58_989e6329cf2frow1_col1\" class=\"data row1 col1\" >4</td>\n",
       "                        <td id=\"T_76c4e01b_7d7b_11eb_8d58_989e6329cf2frow1_col2\" class=\"data row1 col2\" >$3.86</td>\n",
       "            </tr>\n",
       "            <tr>\n",
       "                        <th id=\"T_76c4e01b_7d7b_11eb_8d58_989e6329cf2flevel0_row2\" class=\"row_heading level0 row2\" >Chamjask73</th>\n",
       "                        <td id=\"T_76c4e01b_7d7b_11eb_8d58_989e6329cf2frow2_col0\" class=\"data row2 col0\" >$13.83</td>\n",
       "                        <td id=\"T_76c4e01b_7d7b_11eb_8d58_989e6329cf2frow2_col1\" class=\"data row2 col1\" >3</td>\n",
       "                        <td id=\"T_76c4e01b_7d7b_11eb_8d58_989e6329cf2frow2_col2\" class=\"data row2 col2\" >$4.61</td>\n",
       "            </tr>\n",
       "            <tr>\n",
       "                        <th id=\"T_76c4e01b_7d7b_11eb_8d58_989e6329cf2flevel0_row3\" class=\"row_heading level0 row3\" >Iral74</th>\n",
       "                        <td id=\"T_76c4e01b_7d7b_11eb_8d58_989e6329cf2frow3_col0\" class=\"data row3 col0\" >$13.62</td>\n",
       "                        <td id=\"T_76c4e01b_7d7b_11eb_8d58_989e6329cf2frow3_col1\" class=\"data row3 col1\" >4</td>\n",
       "                        <td id=\"T_76c4e01b_7d7b_11eb_8d58_989e6329cf2frow3_col2\" class=\"data row3 col2\" >$3.40</td>\n",
       "            </tr>\n",
       "            <tr>\n",
       "                        <th id=\"T_76c4e01b_7d7b_11eb_8d58_989e6329cf2flevel0_row4\" class=\"row_heading level0 row4\" >Iskadarya95</th>\n",
       "                        <td id=\"T_76c4e01b_7d7b_11eb_8d58_989e6329cf2frow4_col0\" class=\"data row4 col0\" >$13.10</td>\n",
       "                        <td id=\"T_76c4e01b_7d7b_11eb_8d58_989e6329cf2frow4_col1\" class=\"data row4 col1\" >3</td>\n",
       "                        <td id=\"T_76c4e01b_7d7b_11eb_8d58_989e6329cf2frow4_col2\" class=\"data row4 col2\" >$4.37</td>\n",
       "            </tr>\n",
       "    </tbody></table>"
      ],
      "text/plain": [
       "<pandas.io.formats.style.Styler at 0x1fcacd9d4f0>"
      ]
     },
     "execution_count": 58,
     "metadata": {},
     "output_type": "execute_result"
    }
   ],
   "source": [
    "# Create GroupBy tables for sum count and mean \n",
    "SN_groupby_sum_df = purchase_data_df.groupby(['SN']).sum().sort_values(by='Price', ascending = False)\n",
    "SN_groupby_count_df = purchase_data_df.groupby(['SN']).count().sort_values(by='Price', ascending = False)\n",
    "SN_groupby_avg_df = purchase_data_df.groupby(['SN']).mean().sort_values(by='Price', ascending = False)\n",
    "\n",
    "# Reduce rows to top 5 sorted by Total Purchase Value  \n",
    "Top_Five_Spenders_df = SN_groupby_sum_df.nlargest(5,'Price')\n",
    "\n",
    "# Reset Groupby Index\n",
    "Top_Five_Spenders_df.reset_index()\n",
    "\n",
    "# Clean Out unneeded columns \n",
    "del Top_Five_Spenders_df['Purchase ID']\n",
    "del Top_Five_Spenders_df['Item ID']\n",
    "del Top_Five_Spenders_df['Age']\n",
    "\n",
    "# Rename Columns \n",
    "Top_Five_Spenders_df.rename(columns={\"Price\": \"Total Purchase Price\"})\n",
    "Top_Five_Spenders_df.columns = ['Total Purchases']\n",
    "\n",
    "# Clone and Join Dataframes \n",
    "Top_Five_Spenders_PurchaseCount_df = pd.DataFrame(SN_groupby_count_df['Purchase ID'])\n",
    "Joined_DF = Top_Five_Spenders_df.join(Top_Five_Spenders_PurchaseCount_df)\n",
    "Top_Five_Spenders_AveragePurchasePrice_s = SN_groupby_avg_df['Price']\n",
    "Joined_DF2 = Joined_DF.join(Top_Five_Spenders_AveragePurchasePrice_s)\n",
    "\n",
    "# Rename Columns \n",
    "Joined_DF2.columns = ['Total Purchase Value','Number of Purchases','Average Purchase Price']\n",
    "\n",
    "# Format Table \n",
    "Formatted_Top_Spenders_df = pd.DataFrame(Joined_DF2).style.format({\n",
    "    'Total Purchase Value': '${:,.2f}'.format,\n",
    "    'Average Purchase Price': '${:,.2f}'.format,\n",
    "})\n",
    "\n",
    "# Display Table \n",
    "Formatted_Top_Spenders_df\n"
   ]
  },
  {
   "cell_type": "markdown",
   "metadata": {},
   "source": [
    "## Most Popular Items"
   ]
  },
  {
   "cell_type": "markdown",
   "metadata": {},
   "source": [
    "* Retrieve the Item ID, Item Name, and Item Price columns\n",
    "\n",
    "\n",
    "* Group by Item ID and Item Name. Perform calculations to obtain purchase count, item price, and total purchase value\n",
    "\n",
    "\n",
    "* Create a summary data frame to hold the results\n",
    "\n",
    "\n",
    "* Sort the purchase count column in descending order\n",
    "\n",
    "\n",
    "* Optional: give the displayed data cleaner formatting\n",
    "\n",
    "\n",
    "* Display a preview of the summary data frame\n",
    "\n"
   ]
  },
  {
   "cell_type": "code",
   "execution_count": 56,
   "metadata": {},
   "outputs": [
    {
     "data": {
      "text/html": [
       "<style  type=\"text/css\" >\n",
       "</style><table id=\"T_cc4500a9_7d7a_11eb_865f_989e6329cf2f\" ><thead>    <tr>        <th class=\"blank\" ></th>        <th class=\"blank level0\" ></th>        <th class=\"col_heading level0 col0\" >Total Number of Purchases</th>        <th class=\"col_heading level0 col1\" >Total Purchase Value</th>        <th class=\"col_heading level0 col2\" >Item Value</th>    </tr>    <tr>        <th class=\"index_name level0\" >Item Name</th>        <th class=\"index_name level1\" >Item ID</th>        <th class=\"blank\" ></th>        <th class=\"blank\" ></th>        <th class=\"blank\" ></th>    </tr></thead><tbody>\n",
       "                <tr>\n",
       "                        <th id=\"T_cc4500a9_7d7a_11eb_865f_989e6329cf2flevel0_row0\" class=\"row_heading level0 row0\" >Final Critic</th>\n",
       "                        <th id=\"T_cc4500a9_7d7a_11eb_865f_989e6329cf2flevel1_row0\" class=\"row_heading level1 row0\" >92</th>\n",
       "                        <td id=\"T_cc4500a9_7d7a_11eb_865f_989e6329cf2frow0_col0\" class=\"data row0 col0\" >13</td>\n",
       "                        <td id=\"T_cc4500a9_7d7a_11eb_865f_989e6329cf2frow0_col1\" class=\"data row0 col1\" >$59.99</td>\n",
       "                        <td id=\"T_cc4500a9_7d7a_11eb_865f_989e6329cf2frow0_col2\" class=\"data row0 col2\" >$4.61</td>\n",
       "            </tr>\n",
       "            <tr>\n",
       "                        <th id=\"T_cc4500a9_7d7a_11eb_865f_989e6329cf2flevel0_row1\" class=\"row_heading level0 row1\" >Oathbreaker, Last Hope of the Breaking Storm</th>\n",
       "                        <th id=\"T_cc4500a9_7d7a_11eb_865f_989e6329cf2flevel1_row1\" class=\"row_heading level1 row1\" >178</th>\n",
       "                        <td id=\"T_cc4500a9_7d7a_11eb_865f_989e6329cf2frow1_col0\" class=\"data row1 col0\" >12</td>\n",
       "                        <td id=\"T_cc4500a9_7d7a_11eb_865f_989e6329cf2frow1_col1\" class=\"data row1 col1\" >$50.76</td>\n",
       "                        <td id=\"T_cc4500a9_7d7a_11eb_865f_989e6329cf2frow1_col2\" class=\"data row1 col2\" >$4.23</td>\n",
       "            </tr>\n",
       "            <tr>\n",
       "                        <th id=\"T_cc4500a9_7d7a_11eb_865f_989e6329cf2flevel0_row2\" class=\"row_heading level0 row2\" >Persuasion</th>\n",
       "                        <th id=\"T_cc4500a9_7d7a_11eb_865f_989e6329cf2flevel1_row2\" class=\"row_heading level1 row2\" >132</th>\n",
       "                        <td id=\"T_cc4500a9_7d7a_11eb_865f_989e6329cf2frow2_col0\" class=\"data row2 col0\" >9</td>\n",
       "                        <td id=\"T_cc4500a9_7d7a_11eb_865f_989e6329cf2frow2_col1\" class=\"data row2 col1\" >$28.99</td>\n",
       "                        <td id=\"T_cc4500a9_7d7a_11eb_865f_989e6329cf2frow2_col2\" class=\"data row2 col2\" >$3.22</td>\n",
       "            </tr>\n",
       "            <tr>\n",
       "                        <th id=\"T_cc4500a9_7d7a_11eb_865f_989e6329cf2flevel0_row3\" class=\"row_heading level0 row3\" >Nirvana</th>\n",
       "                        <th id=\"T_cc4500a9_7d7a_11eb_865f_989e6329cf2flevel1_row3\" class=\"row_heading level1 row3\" >82</th>\n",
       "                        <td id=\"T_cc4500a9_7d7a_11eb_865f_989e6329cf2frow3_col0\" class=\"data row3 col0\" >9</td>\n",
       "                        <td id=\"T_cc4500a9_7d7a_11eb_865f_989e6329cf2frow3_col1\" class=\"data row3 col1\" >$44.10</td>\n",
       "                        <td id=\"T_cc4500a9_7d7a_11eb_865f_989e6329cf2frow3_col2\" class=\"data row3 col2\" >$4.90</td>\n",
       "            </tr>\n",
       "            <tr>\n",
       "                        <th id=\"T_cc4500a9_7d7a_11eb_865f_989e6329cf2flevel0_row4\" class=\"row_heading level0 row4\" >Extraction, Quickblade Of Trembling Hands</th>\n",
       "                        <th id=\"T_cc4500a9_7d7a_11eb_865f_989e6329cf2flevel1_row4\" class=\"row_heading level1 row4\" >108</th>\n",
       "                        <td id=\"T_cc4500a9_7d7a_11eb_865f_989e6329cf2frow4_col0\" class=\"data row4 col0\" >9</td>\n",
       "                        <td id=\"T_cc4500a9_7d7a_11eb_865f_989e6329cf2frow4_col1\" class=\"data row4 col1\" >$31.77</td>\n",
       "                        <td id=\"T_cc4500a9_7d7a_11eb_865f_989e6329cf2frow4_col2\" class=\"data row4 col2\" >$3.53</td>\n",
       "            </tr>\n",
       "    </tbody></table>"
      ],
      "text/plain": [
       "<pandas.io.formats.style.Styler at 0x1fcacc81310>"
      ]
     },
     "execution_count": 56,
     "metadata": {},
     "output_type": "execute_result"
    }
   ],
   "source": [
    "# Get Table and Group By Item Name \n",
    "popular_items_df = purchase_data_df[['Purchase ID','Item ID','Item Name','Price']]\n",
    "popular_items_groupby_df = popular_items_df.groupby(['Item Name','Item ID'])\n",
    "\n",
    "# Create Top 5 table by Purchase ID \n",
    "Popular_Items_TopFive_df = popular_items_groupby_df[['Purchase ID']].count().sort_values(by='Purchase ID', ascending = False)\n",
    "\n",
    "# Add column for Total Purchase Value \n",
    "Popular_Items_TopFive_df['Total Purchase Value'] = popular_items_groupby_df[['Price']].sum()\n",
    "\n",
    "# Add column for Item Value \n",
    "Popular_Items_TopFive_df['Item Value'] = Popular_Items_TopFive_df['Total Purchase Value'] / Popular_Items_TopFive_df['Purchase ID']\n",
    "\n",
    "# Rename Columns \n",
    "Popular_Items_TopFive_df.columns = [\"Total Number of Purchases\", 'Total Purchase Value','Item Value']\n",
    "\n",
    "# Cull DataFrame to Top 5 \n",
    "Popular_Items_TopFive_df = Popular_Items_TopFive_df.nlargest(5,'Total Number of Purchases')\n",
    "\n",
    "Popular_Items_TopFive_Formetted_df = pd.DataFrame(Popular_Items_TopFive_df).style.format({\n",
    "    'Total Purchase Value': '${:,.2f}'.format,\n",
    "    'Item Value': '${:,.2f}'.format,\n",
    "})\n",
    "\n",
    "# Display Dataframe \n",
    "Popular_Items_TopFive_Formetted_df\n",
    "\n"
   ]
  },
  {
   "cell_type": "markdown",
   "metadata": {},
   "source": [
    "## Most Profitable Items"
   ]
  },
  {
   "cell_type": "markdown",
   "metadata": {},
   "source": [
    "* Sort the above table by total purchase value in descending order\n",
    "\n",
    "\n",
    "* Optional: give the displayed data cleaner formatting\n",
    "\n",
    "\n",
    "* Display a preview of the data frame\n",
    "\n"
   ]
  },
  {
   "cell_type": "code",
   "execution_count": 57,
   "metadata": {
    "scrolled": true
   },
   "outputs": [
    {
     "data": {
      "text/html": [
       "<style  type=\"text/css\" >\n",
       "</style><table id=\"T_01cfd7a8_7d7b_11eb_96ed_989e6329cf2f\" ><thead>    <tr>        <th class=\"blank\" ></th>        <th class=\"blank level0\" ></th>        <th class=\"col_heading level0 col0\" >Total Number of Purchases</th>        <th class=\"col_heading level0 col1\" >Total Purchase Value</th>        <th class=\"col_heading level0 col2\" >Item Value</th>    </tr>    <tr>        <th class=\"index_name level0\" >Item Name</th>        <th class=\"index_name level1\" >Item ID</th>        <th class=\"blank\" ></th>        <th class=\"blank\" ></th>        <th class=\"blank\" ></th>    </tr></thead><tbody>\n",
       "                <tr>\n",
       "                        <th id=\"T_01cfd7a8_7d7b_11eb_96ed_989e6329cf2flevel0_row0\" class=\"row_heading level0 row0\" >Persuasion</th>\n",
       "                        <th id=\"T_01cfd7a8_7d7b_11eb_96ed_989e6329cf2flevel1_row0\" class=\"row_heading level1 row0\" >132</th>\n",
       "                        <td id=\"T_01cfd7a8_7d7b_11eb_96ed_989e6329cf2frow0_col0\" class=\"data row0 col0\" >9</td>\n",
       "                        <td id=\"T_01cfd7a8_7d7b_11eb_96ed_989e6329cf2frow0_col1\" class=\"data row0 col1\" >$28.99</td>\n",
       "                        <td id=\"T_01cfd7a8_7d7b_11eb_96ed_989e6329cf2frow0_col2\" class=\"data row0 col2\" >$3.22</td>\n",
       "            </tr>\n",
       "            <tr>\n",
       "                        <th id=\"T_01cfd7a8_7d7b_11eb_96ed_989e6329cf2flevel0_row1\" class=\"row_heading level0 row1\" >Extraction, Quickblade Of Trembling Hands</th>\n",
       "                        <th id=\"T_01cfd7a8_7d7b_11eb_96ed_989e6329cf2flevel1_row1\" class=\"row_heading level1 row1\" >108</th>\n",
       "                        <td id=\"T_01cfd7a8_7d7b_11eb_96ed_989e6329cf2frow1_col0\" class=\"data row1 col0\" >9</td>\n",
       "                        <td id=\"T_01cfd7a8_7d7b_11eb_96ed_989e6329cf2frow1_col1\" class=\"data row1 col1\" >$31.77</td>\n",
       "                        <td id=\"T_01cfd7a8_7d7b_11eb_96ed_989e6329cf2frow1_col2\" class=\"data row1 col2\" >$3.53</td>\n",
       "            </tr>\n",
       "            <tr>\n",
       "                        <th id=\"T_01cfd7a8_7d7b_11eb_96ed_989e6329cf2flevel0_row2\" class=\"row_heading level0 row2\" >Nirvana</th>\n",
       "                        <th id=\"T_01cfd7a8_7d7b_11eb_96ed_989e6329cf2flevel1_row2\" class=\"row_heading level1 row2\" >82</th>\n",
       "                        <td id=\"T_01cfd7a8_7d7b_11eb_96ed_989e6329cf2frow2_col0\" class=\"data row2 col0\" >9</td>\n",
       "                        <td id=\"T_01cfd7a8_7d7b_11eb_96ed_989e6329cf2frow2_col1\" class=\"data row2 col1\" >$44.10</td>\n",
       "                        <td id=\"T_01cfd7a8_7d7b_11eb_96ed_989e6329cf2frow2_col2\" class=\"data row2 col2\" >$4.90</td>\n",
       "            </tr>\n",
       "            <tr>\n",
       "                        <th id=\"T_01cfd7a8_7d7b_11eb_96ed_989e6329cf2flevel0_row3\" class=\"row_heading level0 row3\" >Oathbreaker, Last Hope of the Breaking Storm</th>\n",
       "                        <th id=\"T_01cfd7a8_7d7b_11eb_96ed_989e6329cf2flevel1_row3\" class=\"row_heading level1 row3\" >178</th>\n",
       "                        <td id=\"T_01cfd7a8_7d7b_11eb_96ed_989e6329cf2frow3_col0\" class=\"data row3 col0\" >12</td>\n",
       "                        <td id=\"T_01cfd7a8_7d7b_11eb_96ed_989e6329cf2frow3_col1\" class=\"data row3 col1\" >$50.76</td>\n",
       "                        <td id=\"T_01cfd7a8_7d7b_11eb_96ed_989e6329cf2frow3_col2\" class=\"data row3 col2\" >$4.23</td>\n",
       "            </tr>\n",
       "            <tr>\n",
       "                        <th id=\"T_01cfd7a8_7d7b_11eb_96ed_989e6329cf2flevel0_row4\" class=\"row_heading level0 row4\" >Final Critic</th>\n",
       "                        <th id=\"T_01cfd7a8_7d7b_11eb_96ed_989e6329cf2flevel1_row4\" class=\"row_heading level1 row4\" >92</th>\n",
       "                        <td id=\"T_01cfd7a8_7d7b_11eb_96ed_989e6329cf2frow4_col0\" class=\"data row4 col0\" >13</td>\n",
       "                        <td id=\"T_01cfd7a8_7d7b_11eb_96ed_989e6329cf2frow4_col1\" class=\"data row4 col1\" >$59.99</td>\n",
       "                        <td id=\"T_01cfd7a8_7d7b_11eb_96ed_989e6329cf2frow4_col2\" class=\"data row4 col2\" >$4.61</td>\n",
       "            </tr>\n",
       "    </tbody></table>"
      ],
      "text/plain": [
       "<pandas.io.formats.style.Styler at 0x1fcacf88790>"
      ]
     },
     "execution_count": 57,
     "metadata": {},
     "output_type": "execute_result"
    }
   ],
   "source": [
    "# Clone Above Dataframe\n",
    "Profitalbe_Items_df = Popular_Items_TopFive_df\n",
    "\n",
    "# Sort value Total Purchase Value and reverse order \n",
    "Profitable_Items_TopFive_Sorted_df = Profitalbe_Items_df.sort_values(by='Total Purchase Value', ascending = True)\n",
    "\n",
    "# Format DF\n",
    "Profitable_Items_TopFive_Formetted_df = pd.DataFrame(Profitable_Items_TopFive_Sorted_df).style.format({\n",
    "    'Total Purchase Value': '${:,.2f}'.format,\n",
    "    'Item Value': '${:,.2f}'.format,\n",
    "})\n",
    "\n",
    "# Display DataFrame\n",
    "Profitable_Items_TopFive_Formetted_df"
   ]
  },
  {
   "cell_type": "code",
   "execution_count": null,
   "metadata": {},
   "outputs": [],
   "source": []
  }
 ],
 "metadata": {
  "anaconda-cloud": {},
  "kernel_info": {
   "name": "python3"
  },
  "kernelspec": {
   "display_name": "Python 3",
   "language": "python",
   "name": "python3"
  },
  "language_info": {
   "codemirror_mode": {
    "name": "ipython",
    "version": 3
   },
   "file_extension": ".py",
   "mimetype": "text/x-python",
   "name": "python",
   "nbconvert_exporter": "python",
   "pygments_lexer": "ipython3",
   "version": "3.8.5"
  },
  "latex_envs": {
   "LaTeX_envs_menu_present": true,
   "autoclose": false,
   "autocomplete": true,
   "bibliofile": "biblio.bib",
   "cite_by": "apalike",
   "current_citInitial": 1,
   "eqLabelWithNumbers": true,
   "eqNumInitial": 1,
   "hotkeys": {
    "equation": "Ctrl-E",
    "itemize": "Ctrl-I"
   },
   "labels_anchors": false,
   "latex_user_defs": false,
   "report_style_numbering": false,
   "user_envs_cfg": false
  },
  "nteract": {
   "version": "0.2.0"
  }
 },
 "nbformat": 4,
 "nbformat_minor": 2
}
